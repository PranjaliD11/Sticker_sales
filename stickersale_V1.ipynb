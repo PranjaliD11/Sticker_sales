{
 "cells": [
  {
   "cell_type": "code",
   "execution_count": 1,
   "id": "f6b1a182",
   "metadata": {
    "_cell_guid": "b1076dfc-b9ad-4769-8c92-a6c4dae69d19",
    "_uuid": "8f2839f25d086af736a60e9eeb907d3b93b6e0e5",
    "execution": {
     "iopub.execute_input": "2025-01-29T13:59:48.194590Z",
     "iopub.status.busy": "2025-01-29T13:59:48.194252Z",
     "iopub.status.idle": "2025-01-29T13:59:49.013543Z",
     "shell.execute_reply": "2025-01-29T13:59:49.012352Z"
    },
    "papermill": {
     "duration": 0.826997,
     "end_time": "2025-01-29T13:59:49.015286",
     "exception": false,
     "start_time": "2025-01-29T13:59:48.188289",
     "status": "completed"
    },
    "tags": []
   },
   "outputs": [
    {
     "name": "stdout",
     "output_type": "stream",
     "text": [
      "/kaggle/input/playground-series-s5e1/sample_submission.csv\n",
      "/kaggle/input/playground-series-s5e1/train.csv\n",
      "/kaggle/input/playground-series-s5e1/test.csv\n"
     ]
    }
   ],
   "source": [
    "import numpy as np # linear algebra\n",
    "import pandas as pd # data processing, CSV file I/O (e.g. pd.read_csv)\n",
    "\n",
    "import os\n",
    "for dirname, _, filenames in os.walk('/kaggle/input'):\n",
    "    for filename in filenames:\n",
    "        print(os.path.join(dirname, filename))"
   ]
  },
  {
   "cell_type": "code",
   "execution_count": 2,
   "id": "eb72c94c",
   "metadata": {
    "execution": {
     "iopub.execute_input": "2025-01-29T13:59:49.025710Z",
     "iopub.status.busy": "2025-01-29T13:59:49.025234Z",
     "iopub.status.idle": "2025-01-29T13:59:50.385425Z",
     "shell.execute_reply": "2025-01-29T13:59:50.384511Z"
    },
    "papermill": {
     "duration": 1.367452,
     "end_time": "2025-01-29T13:59:50.387346",
     "exception": false,
     "start_time": "2025-01-29T13:59:49.019894",
     "status": "completed"
    },
    "tags": []
   },
   "outputs": [],
   "source": [
    "import matplotlib.pyplot as plt\n",
    "from sklearn.linear_model import LinearRegression\n",
    "from sklearn.metrics import mean_absolute_error, mean_squared_error, r2_score\n",
    "from sklearn.model_selection import train_test_split\n",
    "from sklearn.preprocessing import OneHotEncoder"
   ]
  },
  {
   "cell_type": "code",
   "execution_count": 3,
   "id": "ecca476d",
   "metadata": {
    "execution": {
     "iopub.execute_input": "2025-01-29T13:59:50.397489Z",
     "iopub.status.busy": "2025-01-29T13:59:50.396963Z",
     "iopub.status.idle": "2025-01-29T13:59:50.898140Z",
     "shell.execute_reply": "2025-01-29T13:59:50.897125Z"
    },
    "papermill": {
     "duration": 0.508395,
     "end_time": "2025-01-29T13:59:50.900062",
     "exception": false,
     "start_time": "2025-01-29T13:59:50.391667",
     "status": "completed"
    },
    "tags": []
   },
   "outputs": [],
   "source": [
    "train_data=pd.read_csv('/kaggle/input/playground-series-s5e1/train.csv')\n",
    "test_data=pd.read_csv('/kaggle/input/playground-series-s5e1/test.csv')\n",
    "sample_submission=pd.read_csv('/kaggle/input/playground-series-s5e1/sample_submission.csv')"
   ]
  },
  {
   "cell_type": "code",
   "execution_count": 4,
   "id": "9338c93e",
   "metadata": {
    "execution": {
     "iopub.execute_input": "2025-01-29T13:59:50.909876Z",
     "iopub.status.busy": "2025-01-29T13:59:50.909505Z",
     "iopub.status.idle": "2025-01-29T13:59:50.979034Z",
     "shell.execute_reply": "2025-01-29T13:59:50.977770Z"
    },
    "papermill": {
     "duration": 0.076437,
     "end_time": "2025-01-29T13:59:50.980828",
     "exception": false,
     "start_time": "2025-01-29T13:59:50.904391",
     "status": "completed"
    },
    "tags": []
   },
   "outputs": [
    {
     "name": "stdout",
     "output_type": "stream",
     "text": [
      "<class 'pandas.core.frame.DataFrame'>\n",
      "RangeIndex: 230130 entries, 0 to 230129\n",
      "Data columns (total 6 columns):\n",
      " #   Column    Non-Null Count   Dtype  \n",
      "---  ------    --------------   -----  \n",
      " 0   id        230130 non-null  int64  \n",
      " 1   date      230130 non-null  object \n",
      " 2   country   230130 non-null  object \n",
      " 3   store     230130 non-null  object \n",
      " 4   product   230130 non-null  object \n",
      " 5   num_sold  221259 non-null  float64\n",
      "dtypes: float64(1), int64(1), object(4)\n",
      "memory usage: 10.5+ MB\n"
     ]
    }
   ],
   "source": [
    "train_data.info()"
   ]
  },
  {
   "cell_type": "markdown",
   "id": "bc15e2ef",
   "metadata": {
    "papermill": {
     "duration": 0.003999,
     "end_time": "2025-01-29T13:59:50.989400",
     "exception": false,
     "start_time": "2025-01-29T13:59:50.985401",
     "status": "completed"
    },
    "tags": []
   },
   "source": [
    "Checking null values"
   ]
  },
  {
   "cell_type": "code",
   "execution_count": 5,
   "id": "c375ddb4",
   "metadata": {
    "execution": {
     "iopub.execute_input": "2025-01-29T13:59:50.999082Z",
     "iopub.status.busy": "2025-01-29T13:59:50.998691Z",
     "iopub.status.idle": "2025-01-29T13:59:51.050088Z",
     "shell.execute_reply": "2025-01-29T13:59:51.048998Z"
    },
    "papermill": {
     "duration": 0.058221,
     "end_time": "2025-01-29T13:59:51.051822",
     "exception": false,
     "start_time": "2025-01-29T13:59:50.993601",
     "status": "completed"
    },
    "tags": []
   },
   "outputs": [
    {
     "data": {
      "text/plain": [
       "id             0\n",
       "date           0\n",
       "country        0\n",
       "store          0\n",
       "product        0\n",
       "num_sold    8871\n",
       "dtype: int64"
      ]
     },
     "execution_count": 5,
     "metadata": {},
     "output_type": "execute_result"
    }
   ],
   "source": [
    "train_data.isnull().sum()"
   ]
  },
  {
   "cell_type": "code",
   "execution_count": 6,
   "id": "44578bbb",
   "metadata": {
    "execution": {
     "iopub.execute_input": "2025-01-29T13:59:51.062138Z",
     "iopub.status.busy": "2025-01-29T13:59:51.061736Z",
     "iopub.status.idle": "2025-01-29T13:59:51.073728Z",
     "shell.execute_reply": "2025-01-29T13:59:51.072650Z"
    },
    "papermill": {
     "duration": 0.019332,
     "end_time": "2025-01-29T13:59:51.075756",
     "exception": false,
     "start_time": "2025-01-29T13:59:51.056424",
     "status": "completed"
    },
    "tags": []
   },
   "outputs": [],
   "source": [
    "#filling in null values with median values\n",
    "train_data['num_sold']=train_data['num_sold'].fillna(train_data['num_sold'].median())"
   ]
  },
  {
   "cell_type": "code",
   "execution_count": 7,
   "id": "1f0c4fc7",
   "metadata": {
    "execution": {
     "iopub.execute_input": "2025-01-29T13:59:51.086478Z",
     "iopub.status.busy": "2025-01-29T13:59:51.086087Z",
     "iopub.status.idle": "2025-01-29T13:59:51.136831Z",
     "shell.execute_reply": "2025-01-29T13:59:51.135625Z"
    },
    "papermill": {
     "duration": 0.058305,
     "end_time": "2025-01-29T13:59:51.138741",
     "exception": false,
     "start_time": "2025-01-29T13:59:51.080436",
     "status": "completed"
    },
    "tags": []
   },
   "outputs": [
    {
     "data": {
      "text/plain": [
       "id          0\n",
       "date        0\n",
       "country     0\n",
       "store       0\n",
       "product     0\n",
       "num_sold    0\n",
       "dtype: int64"
      ]
     },
     "execution_count": 7,
     "metadata": {},
     "output_type": "execute_result"
    }
   ],
   "source": [
    "train_data.isnull().sum()"
   ]
  },
  {
   "cell_type": "markdown",
   "id": "8f49afbf",
   "metadata": {
    "papermill": {
     "duration": 0.004217,
     "end_time": "2025-01-29T13:59:51.147723",
     "exception": false,
     "start_time": "2025-01-29T13:59:51.143506",
     "status": "completed"
    },
    "tags": []
   },
   "source": [
    "Converting date to datetime and extracting features"
   ]
  },
  {
   "cell_type": "code",
   "execution_count": 8,
   "id": "686a265e",
   "metadata": {
    "execution": {
     "iopub.execute_input": "2025-01-29T13:59:51.157951Z",
     "iopub.status.busy": "2025-01-29T13:59:51.157620Z",
     "iopub.status.idle": "2025-01-29T13:59:51.236919Z",
     "shell.execute_reply": "2025-01-29T13:59:51.235840Z"
    },
    "papermill": {
     "duration": 0.086692,
     "end_time": "2025-01-29T13:59:51.238919",
     "exception": false,
     "start_time": "2025-01-29T13:59:51.152227",
     "status": "completed"
    },
    "tags": []
   },
   "outputs": [],
   "source": [
    "train_data['date']=pd.to_datetime(train_data['date'])\n",
    "test_data['date']=pd.to_datetime(test_data['date'])\n",
    "train_data['year']=train_data['date'].dt.year\n",
    "train_data['month']=train_data['date'].dt.month\n",
    "train_data['day']=train_data['date'].dt.day\n",
    "test_data['year']=test_data['date'].dt.year\n",
    "test_data['month']=test_data['date'].dt.month\n",
    "test_data['day']=test_data['date'].dt.day"
   ]
  },
  {
   "cell_type": "markdown",
   "id": "26791928",
   "metadata": {
    "papermill": {
     "duration": 0.004215,
     "end_time": "2025-01-29T13:59:51.247842",
     "exception": false,
     "start_time": "2025-01-29T13:59:51.243627",
     "status": "completed"
    },
    "tags": []
   },
   "source": [
    "Encoding"
   ]
  },
  {
   "cell_type": "code",
   "execution_count": 9,
   "id": "21993fba",
   "metadata": {
    "execution": {
     "iopub.execute_input": "2025-01-29T13:59:51.257904Z",
     "iopub.status.busy": "2025-01-29T13:59:51.257573Z",
     "iopub.status.idle": "2025-01-29T13:59:51.637783Z",
     "shell.execute_reply": "2025-01-29T13:59:51.636619Z"
    },
    "papermill": {
     "duration": 0.387526,
     "end_time": "2025-01-29T13:59:51.639821",
     "exception": false,
     "start_time": "2025-01-29T13:59:51.252295",
     "status": "completed"
    },
    "tags": []
   },
   "outputs": [],
   "source": [
    "categorical_columns=[feature for feature in train_data.columns if train_data[feature].dtype=='O']\n",
    "encoder = OneHotEncoder(sparse_output=False)\n",
    "one_hot_encoded_train = encoder.fit_transform(train_data[categorical_columns])\n",
    "one_hot_df_train= pd.DataFrame(one_hot_encoded_train, columns=encoder.get_feature_names_out(categorical_columns))\n",
    "train_data_encoded=pd.concat([train_data, one_hot_df_train],axis=1)\n",
    "train_data_encoded=train_data_encoded.drop(categorical_columns, axis=1)\n",
    "\n",
    "#encoding test data\n",
    "one_hot_encoded_test=encoder.transform(test_data[categorical_columns])\n",
    "one_hot_df_test=pd.DataFrame(one_hot_encoded_test, columns=encoder.get_feature_names_out(categorical_columns))\n",
    "test_data_encoded=pd.concat([test_data,one_hot_df_test],axis=1)\n"
   ]
  },
  {
   "cell_type": "code",
   "execution_count": 10,
   "id": "8c0e0136",
   "metadata": {
    "execution": {
     "iopub.execute_input": "2025-01-29T13:59:51.650186Z",
     "iopub.status.busy": "2025-01-29T13:59:51.649813Z",
     "iopub.status.idle": "2025-01-29T13:59:51.667187Z",
     "shell.execute_reply": "2025-01-29T13:59:51.666174Z"
    },
    "papermill": {
     "duration": 0.024687,
     "end_time": "2025-01-29T13:59:51.669171",
     "exception": false,
     "start_time": "2025-01-29T13:59:51.644484",
     "status": "completed"
    },
    "tags": []
   },
   "outputs": [],
   "source": [
    "y=train_data_encoded['num_sold']\n",
    "train_data_encoded=train_data_encoded.drop(['id', 'date','num_sold'], axis=1)"
   ]
  },
  {
   "cell_type": "code",
   "execution_count": 11,
   "id": "7dfb1566",
   "metadata": {
    "execution": {
     "iopub.execute_input": "2025-01-29T13:59:51.679708Z",
     "iopub.status.busy": "2025-01-29T13:59:51.679392Z",
     "iopub.status.idle": "2025-01-29T13:59:51.903726Z",
     "shell.execute_reply": "2025-01-29T13:59:51.902640Z"
    },
    "papermill": {
     "duration": 0.231871,
     "end_time": "2025-01-29T13:59:51.905998",
     "exception": false,
     "start_time": "2025-01-29T13:59:51.674127",
     "status": "completed"
    },
    "tags": []
   },
   "outputs": [
    {
     "data": {
      "text/html": [
       "<style>#sk-container-id-1 {color: black;background-color: white;}#sk-container-id-1 pre{padding: 0;}#sk-container-id-1 div.sk-toggleable {background-color: white;}#sk-container-id-1 label.sk-toggleable__label {cursor: pointer;display: block;width: 100%;margin-bottom: 0;padding: 0.3em;box-sizing: border-box;text-align: center;}#sk-container-id-1 label.sk-toggleable__label-arrow:before {content: \"▸\";float: left;margin-right: 0.25em;color: #696969;}#sk-container-id-1 label.sk-toggleable__label-arrow:hover:before {color: black;}#sk-container-id-1 div.sk-estimator:hover label.sk-toggleable__label-arrow:before {color: black;}#sk-container-id-1 div.sk-toggleable__content {max-height: 0;max-width: 0;overflow: hidden;text-align: left;background-color: #f0f8ff;}#sk-container-id-1 div.sk-toggleable__content pre {margin: 0.2em;color: black;border-radius: 0.25em;background-color: #f0f8ff;}#sk-container-id-1 input.sk-toggleable__control:checked~div.sk-toggleable__content {max-height: 200px;max-width: 100%;overflow: auto;}#sk-container-id-1 input.sk-toggleable__control:checked~label.sk-toggleable__label-arrow:before {content: \"▾\";}#sk-container-id-1 div.sk-estimator input.sk-toggleable__control:checked~label.sk-toggleable__label {background-color: #d4ebff;}#sk-container-id-1 div.sk-label input.sk-toggleable__control:checked~label.sk-toggleable__label {background-color: #d4ebff;}#sk-container-id-1 input.sk-hidden--visually {border: 0;clip: rect(1px 1px 1px 1px);clip: rect(1px, 1px, 1px, 1px);height: 1px;margin: -1px;overflow: hidden;padding: 0;position: absolute;width: 1px;}#sk-container-id-1 div.sk-estimator {font-family: monospace;background-color: #f0f8ff;border: 1px dotted black;border-radius: 0.25em;box-sizing: border-box;margin-bottom: 0.5em;}#sk-container-id-1 div.sk-estimator:hover {background-color: #d4ebff;}#sk-container-id-1 div.sk-parallel-item::after {content: \"\";width: 100%;border-bottom: 1px solid gray;flex-grow: 1;}#sk-container-id-1 div.sk-label:hover label.sk-toggleable__label {background-color: #d4ebff;}#sk-container-id-1 div.sk-serial::before {content: \"\";position: absolute;border-left: 1px solid gray;box-sizing: border-box;top: 0;bottom: 0;left: 50%;z-index: 0;}#sk-container-id-1 div.sk-serial {display: flex;flex-direction: column;align-items: center;background-color: white;padding-right: 0.2em;padding-left: 0.2em;position: relative;}#sk-container-id-1 div.sk-item {position: relative;z-index: 1;}#sk-container-id-1 div.sk-parallel {display: flex;align-items: stretch;justify-content: center;background-color: white;position: relative;}#sk-container-id-1 div.sk-item::before, #sk-container-id-1 div.sk-parallel-item::before {content: \"\";position: absolute;border-left: 1px solid gray;box-sizing: border-box;top: 0;bottom: 0;left: 50%;z-index: -1;}#sk-container-id-1 div.sk-parallel-item {display: flex;flex-direction: column;z-index: 1;position: relative;background-color: white;}#sk-container-id-1 div.sk-parallel-item:first-child::after {align-self: flex-end;width: 50%;}#sk-container-id-1 div.sk-parallel-item:last-child::after {align-self: flex-start;width: 50%;}#sk-container-id-1 div.sk-parallel-item:only-child::after {width: 0;}#sk-container-id-1 div.sk-dashed-wrapped {border: 1px dashed gray;margin: 0 0.4em 0.5em 0.4em;box-sizing: border-box;padding-bottom: 0.4em;background-color: white;}#sk-container-id-1 div.sk-label label {font-family: monospace;font-weight: bold;display: inline-block;line-height: 1.2em;}#sk-container-id-1 div.sk-label-container {text-align: center;}#sk-container-id-1 div.sk-container {/* jupyter's `normalize.less` sets `[hidden] { display: none; }` but bootstrap.min.css set `[hidden] { display: none !important; }` so we also need the `!important` here to be able to override the default hidden behavior on the sphinx rendered scikit-learn.org. See: https://github.com/scikit-learn/scikit-learn/issues/21755 */display: inline-block !important;position: relative;}#sk-container-id-1 div.sk-text-repr-fallback {display: none;}</style><div id=\"sk-container-id-1\" class=\"sk-top-container\"><div class=\"sk-text-repr-fallback\"><pre>LinearRegression()</pre><b>In a Jupyter environment, please rerun this cell to show the HTML representation or trust the notebook. <br />On GitHub, the HTML representation is unable to render, please try loading this page with nbviewer.org.</b></div><div class=\"sk-container\" hidden><div class=\"sk-item\"><div class=\"sk-estimator sk-toggleable\"><input class=\"sk-toggleable__control sk-hidden--visually\" id=\"sk-estimator-id-1\" type=\"checkbox\" checked><label for=\"sk-estimator-id-1\" class=\"sk-toggleable__label sk-toggleable__label-arrow\">LinearRegression</label><div class=\"sk-toggleable__content\"><pre>LinearRegression()</pre></div></div></div></div></div>"
      ],
      "text/plain": [
       "LinearRegression()"
      ]
     },
     "execution_count": 11,
     "metadata": {},
     "output_type": "execute_result"
    }
   ],
   "source": [
    "X_train, X_test,y_train,y_test=train_test_split(train_data_encoded, y, test_size=0.2, random_state=42) \n",
    "#using linear regression\n",
    "model=LinearRegression()\n",
    "model.fit(X_train,y_train)\n"
   ]
  },
  {
   "cell_type": "code",
   "execution_count": 12,
   "id": "e6930687",
   "metadata": {
    "execution": {
     "iopub.execute_input": "2025-01-29T13:59:51.923376Z",
     "iopub.status.busy": "2025-01-29T13:59:51.922925Z",
     "iopub.status.idle": "2025-01-29T13:59:51.992309Z",
     "shell.execute_reply": "2025-01-29T13:59:51.990019Z"
    },
    "papermill": {
     "duration": 0.081028,
     "end_time": "2025-01-29T13:59:51.995071",
     "exception": false,
     "start_time": "2025-01-29T13:59:51.914043",
     "status": "completed"
    },
    "tags": []
   },
   "outputs": [
    {
     "name": "stdout",
     "output_type": "stream",
     "text": [
      "Mean Absolute Error (MAE): 254.30\n",
      "R² Score: 0.71\n",
      "Accuracy: 0.7064532457172223\n"
     ]
    }
   ],
   "source": [
    "y_pred = model.predict(X_test)\n",
    "\n",
    "# Evaluate the model\n",
    "mae = mean_absolute_error(y_test, y_pred)\n",
    "r2 = r2_score(y_test, y_pred)\n",
    "\n",
    "print(f\"Mean Absolute Error (MAE): {mae:.2f}\")\n",
    "print(f\"R² Score: {r2:.2f}\")\n",
    "print(\"Accuracy:\", model.score(X_train,y_train))"
   ]
  },
  {
   "cell_type": "code",
   "execution_count": 13,
   "id": "a26782f0",
   "metadata": {
    "execution": {
     "iopub.execute_input": "2025-01-29T13:59:52.014967Z",
     "iopub.status.busy": "2025-01-29T13:59:52.014488Z",
     "iopub.status.idle": "2025-01-29T13:59:52.042325Z",
     "shell.execute_reply": "2025-01-29T13:59:52.041113Z"
    },
    "papermill": {
     "duration": 0.04111,
     "end_time": "2025-01-29T13:59:52.045199",
     "exception": false,
     "start_time": "2025-01-29T13:59:52.004089",
     "status": "completed"
    },
    "tags": []
   },
   "outputs": [],
   "source": [
    "test_data_encoded=test_data_encoded.drop(categorical_columns,axis=1)\n",
    "test_data_encoded=test_data_encoded.drop(['id','date'],axis=1)\n",
    "y_predicted=model.predict(test_data_encoded)"
   ]
  },
  {
   "cell_type": "code",
   "execution_count": 14,
   "id": "53d6a7d7",
   "metadata": {
    "execution": {
     "iopub.execute_input": "2025-01-29T13:59:52.064954Z",
     "iopub.status.busy": "2025-01-29T13:59:52.064470Z",
     "iopub.status.idle": "2025-01-29T13:59:52.072645Z",
     "shell.execute_reply": "2025-01-29T13:59:52.071612Z"
    },
    "papermill": {
     "duration": 0.020144,
     "end_time": "2025-01-29T13:59:52.074893",
     "exception": false,
     "start_time": "2025-01-29T13:59:52.054749",
     "status": "completed"
    },
    "tags": []
   },
   "outputs": [],
   "source": [
    "sample_submission['num_sold']=y_predicted"
   ]
  },
  {
   "cell_type": "code",
   "execution_count": 15,
   "id": "e5b593b7",
   "metadata": {
    "execution": {
     "iopub.execute_input": "2025-01-29T13:59:52.094568Z",
     "iopub.status.busy": "2025-01-29T13:59:52.094094Z",
     "iopub.status.idle": "2025-01-29T13:59:52.118660Z",
     "shell.execute_reply": "2025-01-29T13:59:52.117564Z"
    },
    "papermill": {
     "duration": 0.037218,
     "end_time": "2025-01-29T13:59:52.121531",
     "exception": false,
     "start_time": "2025-01-29T13:59:52.084313",
     "status": "completed"
    },
    "tags": []
   },
   "outputs": [
    {
     "data": {
      "text/html": [
       "<div>\n",
       "<style scoped>\n",
       "    .dataframe tbody tr th:only-of-type {\n",
       "        vertical-align: middle;\n",
       "    }\n",
       "\n",
       "    .dataframe tbody tr th {\n",
       "        vertical-align: top;\n",
       "    }\n",
       "\n",
       "    .dataframe thead th {\n",
       "        text-align: right;\n",
       "    }\n",
       "</style>\n",
       "<table border=\"1\" class=\"dataframe\">\n",
       "  <thead>\n",
       "    <tr style=\"text-align: right;\">\n",
       "      <th></th>\n",
       "      <th>id</th>\n",
       "      <th>num_sold</th>\n",
       "    </tr>\n",
       "  </thead>\n",
       "  <tbody>\n",
       "    <tr>\n",
       "      <th>0</th>\n",
       "      <td>230130</td>\n",
       "      <td>-9.442787</td>\n",
       "    </tr>\n",
       "    <tr>\n",
       "      <th>1</th>\n",
       "      <td>230131</td>\n",
       "      <td>946.392685</td>\n",
       "    </tr>\n",
       "    <tr>\n",
       "      <th>2</th>\n",
       "      <td>230132</td>\n",
       "      <td>732.633345</td>\n",
       "    </tr>\n",
       "    <tr>\n",
       "      <th>3</th>\n",
       "      <td>230133</td>\n",
       "      <td>271.649939</td>\n",
       "    </tr>\n",
       "    <tr>\n",
       "      <th>4</th>\n",
       "      <td>230134</td>\n",
       "      <td>365.715194</td>\n",
       "    </tr>\n",
       "    <tr>\n",
       "      <th>...</th>\n",
       "      <td>...</td>\n",
       "      <td>...</td>\n",
       "    </tr>\n",
       "    <tr>\n",
       "      <th>98545</th>\n",
       "      <td>328675</td>\n",
       "      <td>531.457882</td>\n",
       "    </tr>\n",
       "    <tr>\n",
       "      <th>98546</th>\n",
       "      <td>328676</td>\n",
       "      <td>1487.293354</td>\n",
       "    </tr>\n",
       "    <tr>\n",
       "      <th>98547</th>\n",
       "      <td>328677</td>\n",
       "      <td>1273.534013</td>\n",
       "    </tr>\n",
       "    <tr>\n",
       "      <th>98548</th>\n",
       "      <td>328678</td>\n",
       "      <td>812.550608</td>\n",
       "    </tr>\n",
       "    <tr>\n",
       "      <th>98549</th>\n",
       "      <td>328679</td>\n",
       "      <td>906.615863</td>\n",
       "    </tr>\n",
       "  </tbody>\n",
       "</table>\n",
       "<p>98550 rows × 2 columns</p>\n",
       "</div>"
      ],
      "text/plain": [
       "           id     num_sold\n",
       "0      230130    -9.442787\n",
       "1      230131   946.392685\n",
       "2      230132   732.633345\n",
       "3      230133   271.649939\n",
       "4      230134   365.715194\n",
       "...       ...          ...\n",
       "98545  328675   531.457882\n",
       "98546  328676  1487.293354\n",
       "98547  328677  1273.534013\n",
       "98548  328678   812.550608\n",
       "98549  328679   906.615863\n",
       "\n",
       "[98550 rows x 2 columns]"
      ]
     },
     "execution_count": 15,
     "metadata": {},
     "output_type": "execute_result"
    }
   ],
   "source": [
    "sample_submission"
   ]
  },
  {
   "cell_type": "code",
   "execution_count": 16,
   "id": "02584528",
   "metadata": {
    "execution": {
     "iopub.execute_input": "2025-01-29T13:59:52.143264Z",
     "iopub.status.busy": "2025-01-29T13:59:52.142716Z",
     "iopub.status.idle": "2025-01-29T13:59:52.358573Z",
     "shell.execute_reply": "2025-01-29T13:59:52.357390Z"
    },
    "papermill": {
     "duration": 0.229184,
     "end_time": "2025-01-29T13:59:52.360717",
     "exception": false,
     "start_time": "2025-01-29T13:59:52.131533",
     "status": "completed"
    },
    "tags": []
   },
   "outputs": [],
   "source": [
    "sample_submission.to_csv(\"submission.csv\",index=False)"
   ]
  }
 ],
 "metadata": {
  "kaggle": {
   "accelerator": "none",
   "dataSources": [
    {
     "databundleVersionId": 10652996,
     "sourceId": 85723,
     "sourceType": "competition"
    }
   ],
   "dockerImageVersionId": 30822,
   "isGpuEnabled": false,
   "isInternetEnabled": true,
   "language": "python",
   "sourceType": "notebook"
  },
  "kernelspec": {
   "display_name": "Python 3",
   "language": "python",
   "name": "python3"
  },
  "language_info": {
   "codemirror_mode": {
    "name": "ipython",
    "version": 3
   },
   "file_extension": ".py",
   "mimetype": "text/x-python",
   "name": "python",
   "nbconvert_exporter": "python",
   "pygments_lexer": "ipython3",
   "version": "3.10.12"
  },
  "papermill": {
   "default_parameters": {},
   "duration": 7.518096,
   "end_time": "2025-01-29T13:59:52.985892",
   "environment_variables": {},
   "exception": null,
   "input_path": "__notebook__.ipynb",
   "output_path": "__notebook__.ipynb",
   "parameters": {},
   "start_time": "2025-01-29T13:59:45.467796",
   "version": "2.6.0"
  }
 },
 "nbformat": 4,
 "nbformat_minor": 5
}
